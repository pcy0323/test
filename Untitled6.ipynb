{
  "nbformat": 4,
  "nbformat_minor": 0,
  "metadata": {
    "colab": {
      "name": "Untitled6.ipynb",
      "provenance": [],
      "authorship_tag": "ABX9TyPXS/lIINeAdhez9lXk8laN",
      "include_colab_link": true
    },
    "kernelspec": {
      "name": "python3",
      "display_name": "Python 3"
    },
    "language_info": {
      "name": "python"
    }
  },
  "cells": [
    {
      "cell_type": "markdown",
      "metadata": {
        "id": "view-in-github",
        "colab_type": "text"
      },
      "source": [
        "<a href=\"https://colab.research.google.com/github/pcy0323/test/blob/main/Untitled6.ipynb\" target=\"_parent\"><img src=\"https://colab.research.google.com/assets/colab-badge.svg\" alt=\"Open In Colab\"/></a>"
      ]
    },
    {
      "cell_type": "code",
      "execution_count": 3,
      "metadata": {
        "id": "3oSki_hc-fJ1"
      },
      "outputs": [],
      "source": [
        "#2022학년도 1학년 1학기 프로그래밍(파이썬) 수행평가\n",
        "#한양공업고등학교 1학년 12반 7번 박차윤"
      ]
    },
    {
      "cell_type": "code",
      "source": [
        "#1\n",
        "삼성전자 = 50000\n",
        "삼성전자 *= 10\n",
        "print(삼성전자)"
      ],
      "metadata": {
        "colab": {
          "base_uri": "https://localhost:8080/"
        },
        "id": "UkSoG83ZKF7I",
        "outputId": "873de83c-807f-4845-9666-ea737364e0ce"
      },
      "execution_count": 7,
      "outputs": [
        {
          "output_type": "stream",
          "name": "stdout",
          "text": [
            "500000\n"
          ]
        }
      ]
    },
    {
      "cell_type": "code",
      "source": [
        "#2\n",
        "year = 2020\n",
        "int(year)\n",
        "year -= 1\n",
        "print(year)\n",
        "year -= 1\n",
        "print(year)\n",
        "year -= 1\n",
        "print(year)"
      ],
      "metadata": {
        "colab": {
          "base_uri": "https://localhost:8080/"
        },
        "id": "-N6rE5d3KakL",
        "outputId": "d832a347-c8d4-4743-a719-f60089e56a70"
      },
      "execution_count": 66,
      "outputs": [
        {
          "output_type": "stream",
          "name": "stdout",
          "text": [
            "2019\n",
            "2018\n",
            "2017\n"
          ]
        }
      ]
    },
    {
      "cell_type": "code",
      "source": [
        "#3\n",
        "string = \"홀짝홀짝홀짝\"\n",
        "string[::2]"
      ],
      "metadata": {
        "colab": {
          "base_uri": "https://localhost:8080/",
          "height": 35
        },
        "id": "x7agiBNBLzD9",
        "outputId": "1fcad368-c514-4151-daa7-9af0bfa45c2e"
      },
      "execution_count": 64,
      "outputs": [
        {
          "output_type": "execute_result",
          "data": {
            "text/plain": [
              "'홀홀홀'"
            ],
            "application/vnd.google.colaboratory.intrinsic+json": {
              "type": "string"
            }
          },
          "metadata": {},
          "execution_count": 64
        }
      ]
    },
    {
      "cell_type": "code",
      "source": [
        "#4\n",
        "string = \"PYTHON\"\n",
        "string[-1::-1]"
      ],
      "metadata": {
        "colab": {
          "base_uri": "https://localhost:8080/",
          "height": 35
        },
        "id": "m481GTwML84F",
        "outputId": "1473a0c2-58e1-40bf-978e-5da1a8fd4283"
      },
      "execution_count": 22,
      "outputs": [
        {
          "output_type": "execute_result",
          "data": {
            "text/plain": [
              "'NOHTYP'"
            ],
            "application/vnd.google.colaboratory.intrinsic+json": {
              "type": "string"
            }
          },
          "metadata": {},
          "execution_count": 22
        }
      ]
    },
    {
      "cell_type": "code",
      "source": [
        "#5\n",
        "movie_rank = ['닥터스트레인지', '스플릿', '럭키', '배트맨']\n",
        "movie_rank.insert(1,\"슈퍼맨\")\n",
        "print(movie_rank)"
      ],
      "metadata": {
        "colab": {
          "base_uri": "https://localhost:8080/"
        },
        "id": "kRNrFgvvPKAu",
        "outputId": "4f607dbc-ed24-49ac-c858-3faaaf91e466"
      },
      "execution_count": 34,
      "outputs": [
        {
          "output_type": "stream",
          "name": "stdout",
          "text": [
            "['닥터스트레인지', '슈퍼맨', '스플릿', '럭키', '배트맨']\n"
          ]
        }
      ]
    },
    {
      "cell_type": "code",
      "source": [
        "#6\n",
        "nums = [1,2,3,4,5,6,7,8,9,10]\n",
        "list(range(1, 10, 2))"
      ],
      "metadata": {
        "colab": {
          "base_uri": "https://localhost:8080/"
        },
        "id": "eGCnGzQ7QcLV",
        "outputId": "a3ce5729-2950-4329-e7c7-c192f7f55e59"
      },
      "execution_count": 47,
      "outputs": [
        {
          "output_type": "execute_result",
          "data": {
            "text/plain": [
              "[1, 3, 5, 7, 9]"
            ]
          },
          "metadata": {},
          "execution_count": 47
        }
      ]
    },
    {
      "cell_type": "code",
      "source": [
        "#7\n",
        "data = [2,4,3,1,5,10,9]\n",
        "data.sort()\n",
        "print(data)"
      ],
      "metadata": {
        "colab": {
          "base_uri": "https://localhost:8080/"
        },
        "id": "eFCE-OclRLgv",
        "outputId": "abe2b1c2-3213-4d2a-e6ac-6be0e07654ca"
      },
      "execution_count": 51,
      "outputs": [
        {
          "output_type": "stream",
          "name": "stdout",
          "text": [
            "[1, 2, 3, 4, 5, 9, 10]\n"
          ]
        }
      ]
    },
    {
      "cell_type": "code",
      "source": [
        "#8\n",
        "name1 = \"김민수\"\n",
        "age1 = 10 \n",
        "name2 = \"이철희\"\n",
        "age2 = 13\n",
        "a = \"이름: {} 나이: {}\"\n",
        "print(a.format(name1,age1))\n",
        "b = \"이름: {} 나이: {}\"\n",
        "print(b.format(name2,age2))"
      ],
      "metadata": {
        "colab": {
          "base_uri": "https://localhost:8080/"
        },
        "id": "spCi8m3CRf6d",
        "outputId": "1945f14b-357b-448a-eb36-cedaf9fa4d22"
      },
      "execution_count": 61,
      "outputs": [
        {
          "output_type": "stream",
          "name": "stdout",
          "text": [
            "이름: 김민수 나이: 10\n",
            "이름: 이철희 나이: 13\n"
          ]
        }
      ]
    }
  ]
}